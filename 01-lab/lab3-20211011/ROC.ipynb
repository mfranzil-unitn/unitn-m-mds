{
 "cells": [
  {
   "cell_type": "markdown",
   "metadata": {
    "id": "sImzGEMLfch4"
   },
   "source": [
    "#**Receiver operating characteristic (ROC) Curve**\n",
    "---\n",
    "Some insights: \\\\\n",
    "- A graphic scheme for binary classification. \\\\\n",
    "- On the x-axis you have the false positive rate (FPR) \\\\\n",
    "- On the y-axis the true positive rate (TPR) \\\\\n",
    "- Each point of the curve is possible threshold \\\\\n",
    "- You can choose the threshold you prefer as a trade-off between the TPR and  the FPR \\\\\n",
    "- The main output you have are: TPR, FPR and Area Under the Curve (AUC)\n",
    "- To generate the ROC curve you need two arrays: score and label\n",
    "- In the score array goes the similarity values returned by the classifier\n",
    "- In the label array goes the labels set in concert with the decision the \\\\\n",
    "classifier should take (i.e. 1 if the binary decision is positive, 0 if negative).\n",
    "- We refer to the positive and negative decision of the classifier respectively with H1 (or match) and H0 (or mis-match)."
   ]
  },
  {
   "cell_type": "markdown",
   "metadata": {
    "id": "5V-JKzPMp434"
   },
   "source": [
    "**QUESTIONS?** *andrea.monitbeller@unitn.it*"
   ]
  },
  {
   "cell_type": "markdown",
   "metadata": {
    "id": "HFqj9Osegpnp"
   },
   "source": [
    "An Example"
   ]
  },
  {
   "cell_type": "code",
   "execution_count": 2,
   "metadata": {
    "executionInfo": {
     "elapsed": 255,
     "status": "ok",
     "timestamp": 1633883802852,
     "user": {
      "displayName": "Andrea Montibeller",
      "photoUrl": "https://lh3.googleusercontent.com/a-/AOh14Gj7PQ870VnPzLePygL2GE1rErIgsIW4QmS9N5kcKw=s64",
      "userId": "02038337912464628386"
     },
     "user_tz": -120
    },
    "id": "EpMAAeTXeeCp"
   },
   "outputs": [],
   "source": [
    "import matplotlib.pyplot as plt\n",
    "import numpy as np\n",
    "from sklearn.metrics import roc_curve, auc\n",
    "\n",
    "score = np.asarray([1, 0.9, 0.8, 0.7, 0.75, 0.76, 0.88, 0.91, 0.7, 0.55, 0.6,\n",
    "                    0.2, 0.5, 0.6, 0.7, 0.3, 0.44, 0.55, 0.61, 0.21, 0.5, 0.1])\n",
    "label = np.asarray([1, 1, 1, 1, 1, 1, 1, 1, 1, 1, 1, 0, 0, 0, 0, 0, 0, 0, 0, 0, 0, 0])\n",
    "#compute ROC\n",
    "fpr, tpr, tau = roc_curve(label, score, drop_intermediate=False)\n",
    "#compute AUC\n",
    "roc_auc = auc(fpr, tpr)"
   ]
  },
  {
   "cell_type": "code",
   "execution_count": 3,
   "metadata": {
    "colab": {
     "base_uri": "https://localhost:8080/",
     "height": 295
    },
    "executionInfo": {
     "elapsed": 419,
     "status": "ok",
     "timestamp": 1633883804920,
     "user": {
      "displayName": "Andrea Montibeller",
      "photoUrl": "https://lh3.googleusercontent.com/a-/AOh14Gj7PQ870VnPzLePygL2GE1rErIgsIW4QmS9N5kcKw=s64",
      "userId": "02038337912464628386"
     },
     "user_tz": -120
    },
    "id": "zcFIm1Wlid9M",
    "outputId": "978595c1-92fd-4aa7-9562-3c8096fd032c"
   },
   "outputs": [
    {
     "data": {
      "image/png": "[encoded data removed]",
      "text/plain": [
       "<Figure size 432x288 with 1 Axes>"
      ]
     },
     "metadata": {
      "needs_background": "light"
     },
     "output_type": "display_data"
    }
   ],
   "source": [
    "plt.figure()\n",
    "lw = 2\n",
    "plt.plot(fpr, tpr, color='darkorange',\n",
    "         lw=lw, label='AUC = %0.2f' % roc_auc)\n",
    "plt.plot([0, 1], [0, 1], color='navy', lw=lw, linestyle='--')\n",
    "plt.xlim([-0.01, 1.0])\n",
    "plt.ylim([0.0, 1.05])\n",
    "plt.xlabel('False Positive Rate')\n",
    "plt.ylabel('True Positive Rate')\n",
    "plt.title('Receiver operating characteristic example')\n",
    "plt.legend(loc=\"lower right\")\n",
    "plt.show()"
   ]
  },
  {
   "cell_type": "markdown",
   "metadata": {
    "id": "PXdKrqpynM4g"
   },
   "source": [
    "#How do I set the threshold then?\n",
    "A good threshold has a good trade off between TPR and FPR. Generally, the condition you care about is that your FPR never exceed a value of 0.05. Thus, for the example above:"
   ]
  },
  {
   "cell_type": "code",
   "execution_count": 4,
   "metadata": {
    "colab": {
     "base_uri": "https://localhost:8080/"
    },
    "executionInfo": {
     "elapsed": 252,
     "status": "ok",
     "timestamp": 1633883935566,
     "user": {
      "displayName": "Andrea Montibeller",
      "photoUrl": "https://lh3.googleusercontent.com/a-/AOh14Gj7PQ870VnPzLePygL2GE1rErIgsIW4QmS9N5kcKw=s64",
      "userId": "02038337912464628386"
     },
     "user_tz": -120
    },
    "id": "kLSRPUkrnMHy",
    "outputId": "5cb7d622-165e-4c37-868c-855920715338"
   },
   "outputs": [
    {
     "name": "stdout",
     "output_type": "stream",
     "text": [
      "For a FPR approximately equals to 0.05 corresponds a TPR equals to 0.82\n",
      "For a FPR approximately equals to 0.05 corresponds a threshold equals to 0.70\n",
      "Check FPR 0.09\n"
     ]
    }
   ],
   "source": [
    "idx_tpr = np.where((fpr - 0.05) == min(i for i in (fpr - 0.05) if i > 0))\n",
    "print('For a FPR approximately equals to 0.05 corresponds a TPR equals to %0.2f' % tpr[idx_tpr[0][0]])\n",
    "print('For a FPR approximately equals to 0.05 corresponds a threshold equals to %0.2f' % tau[idx_tpr[0][0]])\n",
    "print('Check FPR %0.2f' % fpr[idx_tpr[0][0]])"
   ]
  },
  {
   "cell_type": "markdown",
   "metadata": {
    "id": "sUt4oZAxpjUh"
   },
   "source": [
    "#**EXAMPLE 2**\n",
    "\n",
    "Let's apply what we learned to watermarking."
   ]
  },
  {
   "cell_type": "markdown",
   "metadata": {
    "id": "LqobE7PZu7Oc"
   },
   "source": [
    "Function to embed/detect spread spectrum and apply a random attack."
   ]
  },
  {
   "cell_type": "code",
   "execution_count": 5,
   "metadata": {
    "executionInfo": {
     "elapsed": 366,
     "status": "ok",
     "timestamp": 1633884085899,
     "user": {
      "displayName": "Andrea Montibeller",
      "photoUrl": "https://lh3.googleusercontent.com/a-/AOh14Gj7PQ870VnPzLePygL2GE1rErIgsIW4QmS9N5kcKw=s64",
      "userId": "02038337912464628386"
     },
     "user_tz": -120
    },
    "id": "E0NY-cC7u58s"
   },
   "outputs": [],
   "source": [
    "from scipy.fft import dct, idct\n",
    "\n",
    "import random\n",
    "\n",
    "\n",
    "def embedding(image, mark_size, alpha, v='multiplicative'):\n",
    "    # Get the DCT transform of the image\n",
    "    ori_dct = dct(dct(image, axis=0, norm='ortho'), axis=1, norm='ortho')\n",
    "\n",
    "    # Get the locations of the most perceptually significant components\n",
    "    sign = np.sign(ori_dct)\n",
    "    ori_dct = abs(ori_dct)\n",
    "    locations = np.argsort(-ori_dct, axis=None)  # - sign is used to get descending order\n",
    "    rows = image.shape[0]\n",
    "    locations = [(val // rows, val % rows) for val in locations]  # locations as (x,y) coordinates\n",
    "\n",
    "    # Generate a watermark\n",
    "    mark = np.random.uniform(0.0, 1.0, mark_size)\n",
    "    mark = np.uint8(np.rint(mark))\n",
    "    np.save('mark.npy', mark)\n",
    "\n",
    "    # Embed the watermark\n",
    "    watermarked_dct = ori_dct.copy()\n",
    "    for idx, (loc, mark_val) in enumerate(zip(locations[1:], mark)):\n",
    "        if v == 'additive':\n",
    "            watermarked_dct[loc] += (alpha * mark_val)\n",
    "        elif v == 'multiplicative':\n",
    "            watermarked_dct[loc] *= 1 + (alpha * mark_val)\n",
    "\n",
    "    # Restore sign and o back to spatial domain\n",
    "    watermarked_dct *= sign\n",
    "    watermarked = np.uint8(idct(idct(watermarked_dct, axis=1, norm='ortho'), axis=0, norm='ortho'))\n",
    "\n",
    "    return mark, watermarked\n",
    "\n",
    "\n",
    "def detection(image, watermarked, w, mark_size, v='multiplicative'):\n",
    "    ori_dct = dct(dct(image, axis=0, norm='ortho'), axis=1, norm='ortho')\n",
    "    wat_dct = dct(dct(watermarked, axis=0, norm='ortho'), axis=1, norm='ortho')\n",
    "\n",
    "    # Get the locations of the most perceptually significant components\n",
    "    ori_dct = abs(ori_dct)\n",
    "    wat_dct = abs(wat_dct)\n",
    "    locations = np.argsort(-ori_dct, axis=None)  # - sign is used to get descending order\n",
    "    rows = image.shape[0]\n",
    "    locations = [(val // rows, val % rows) for val in locations]  # locations as (x,y) coordinates\n",
    "\n",
    "    # Generate a watermark\n",
    "    w_ex = np.zeros(mark_size, dtype=np.float64)\n",
    "\n",
    "    # Embed the watermark\n",
    "    watermarked_dct = ori_dct.copy()\n",
    "    for idx, (loc, mark_val) in enumerate(zip(locations[1:], w)):\n",
    "        if v == 'additive':\n",
    "            w_ex[idx] = (wat_dct[loc] - ori_dct[loc]) / alpha\n",
    "        elif v == 'multiplicative':\n",
    "            w_ex[idx] = (wat_dct[loc] - ori_dct[loc]) / (alpha * ori_dct[loc])\n",
    "\n",
    "    return w_ex\n",
    "\n",
    "\n",
    "def similarity(X, X_star):\n",
    "    #Computes the similarity measure between the original and the new watermarks.\n",
    "    s = np.sum(np.multiply(X, X_star)) / np.sqrt(np.sum(np.multiply(X_star, X_star)))\n",
    "    return s\n",
    "\n",
    "\n",
    "#this seed was set just to make you obtain the same result\n",
    "random.seed(3)\n",
    "\n",
    "\n",
    "def awgn(img, std, seed):\n",
    "    mean = 0.0  # some constant\n",
    "    #np.random.seed(seed)\n",
    "    attacked = img + np.random.normal(mean, std, img.shape)\n",
    "    attacked = np.clip(attacked, 0, 255)\n",
    "    return attacked\n",
    "\n",
    "\n",
    "def blur(img, sigma):\n",
    "    from scipy.ndimage.filters import gaussian_filter\n",
    "    attacked = gaussian_filter(img, sigma)\n",
    "    return attacked\n",
    "\n",
    "\n",
    "def sharpening(img, sigma, alpha):\n",
    "    from scipy.ndimage import gaussian_filter\n",
    "\n",
    "    #print(img/255)\n",
    "    filter_blurred_f = gaussian_filter(img, sigma)\n",
    "\n",
    "    attacked = img + alpha * (img - filter_blurred_f)\n",
    "    return attacked\n",
    "\n",
    "\n",
    "def median(img, kernel_size):\n",
    "    from scipy.signal import medfilt\n",
    "    attacked = medfilt(img, kernel_size)\n",
    "    return attacked\n",
    "\n",
    "\n",
    "def resizing(img, scale):\n",
    "    from skimage.transform import rescale\n",
    "    x, y = img.shape\n",
    "    attacked = rescale(img, scale)\n",
    "    attacked = rescale(attacked, 1 / scale)\n",
    "    attacked = attacked[:x, :y]\n",
    "    return attacked\n",
    "\n",
    "\n",
    "def jpeg_compression(img, QF):\n",
    "    from PIL import Image\n",
    "    img = Image.fromarray(img)\n",
    "    img.save('tmp.jpg', \"JPEG\", quality=QF)\n",
    "    attacked = Image.open('tmp.jpg')\n",
    "    attacked = np.asarray(attacked, dtype=np.uint8)\n",
    "    os.remove('tmp.jpg')\n",
    "\n",
    "    return attacked\n",
    "\n",
    "\n",
    "def random_attack(img):\n",
    "    i = random.randint(1, 6)\n",
    "    if i == 1:\n",
    "        attacked = awgn(img, 5.0, 123)\n",
    "    elif i == 2:\n",
    "        attacked = blur(img, [3, 2])\n",
    "    elif i == 3:\n",
    "        attacked = sharpening(img, 1, 1)\n",
    "    elif i == 4:\n",
    "        attacked = median(img, [3, 5])\n",
    "    elif i == 5:\n",
    "        attacked = resizing(img, 0.5)\n",
    "    elif i == 6:\n",
    "        attacked = jpeg_compression(img, 75)\n",
    "    else:\n",
    "        attacked = None\n",
    "    return attacked"
   ]
  },
  {
   "cell_type": "markdown",
   "metadata": {
    "id": "XcQEXTcFrcIf"
   },
   "source": [
    "Get the images"
   ]
  },
  {
   "cell_type": "code",
   "execution_count": 20,
   "metadata": {
    "executionInfo": {
     "elapsed": 235,
     "status": "ok",
     "timestamp": 1633884100621,
     "user": {
      "displayName": "Andrea Montibeller",
      "photoUrl": "https://lh3.googleusercontent.com/a-/AOh14Gj7PQ870VnPzLePygL2GE1rErIgsIW4QmS9N5kcKw=s64",
      "userId": "02038337912464628386"
     },
     "user_tz": -120
    },
    "id": "dvu38TrwrWb5"
   },
   "outputs": [
    {
     "name": "stdout",
     "output_type": "stream",
     "text": [
      "--2021-10-11 09:00:09--  https://drive.google.com/uc?export=download&id=1GOz-jcICYEFZwMgzZdNEP3j7ZMDXIOuo\n",
      "Resolving drive.google.com (drive.google.com)... 216.58.205.78\n",
      "Connecting to drive.google.com (drive.google.com)|216.58.205.78|:443... connected.\n",
      "HTTP request sent, awaiting response... 302 Moved Temporarily\n",
      "Location: https://doc-04-9g-docs.googleusercontent.com/docs/securesc/ha0ro937gcuc7l7deffksulhg5h7mbp1/6n3ajro8r2d2dg7094o4teo95milvhek/1633935600000/05147498317285990661/*/1GOz-jcICYEFZwMgzZdNEP3j7ZMDXIOuo?e=download [following]\n",
      "Warning: wildcards not supported in HTTP.\n",
      "--2021-10-11 09:00:10--  https://doc-04-9g-docs.googleusercontent.com/docs/securesc/ha0ro937gcuc7l7deffksulhg5h7mbp1/6n3ajro8r2d2dg7094o4teo95milvhek/1633935600000/05147498317285990661/*/1GOz-jcICYEFZwMgzZdNEP3j7ZMDXIOuo?e=download\n",
      "Resolving doc-04-9g-docs.googleusercontent.com (doc-04-9g-docs.googleusercontent.com)... 216.58.209.33\n",
      "Connecting to doc-04-9g-docs.googleusercontent.com (doc-04-9g-docs.googleusercontent.com)|216.58.209.33|:443... connected.\n",
      "HTTP request sent, awaiting response... 200 OK\n",
      "Length: 1060129 (1.0M) [application/zip]\n",
      "Saving to: ‘../watermarking-images.zip’\n",
      "\n",
      "../watermarking-ima 100%[===================>]   1.01M  --.-KB/s    in 0.1s    \n",
      "\n",
      "2021-10-11 09:00:11 (7.80 MB/s) - ‘../watermarking-images.zip’ saved [1060129/1060129]\n",
      "\n",
      "Archive:  ../watermarking-images.zip\n",
      "mv: illegal option -- r\n",
      "usage: mv [-f | -i | -n] [-v] source target\n",
      "       mv [-f | -i | -n] [-v] source ... directory\n"
     ]
    }
   ],
   "source": [
    "import os\n",
    "import numpy as np\n",
    "import cv2\n",
    "\n",
    "import random\n",
    "\n",
    "# get required images\n",
    "if not os.path.isdir('../_Images'):\n",
    "    !wget -O../ watermarking-images.zip \"https://drive.google.com/uc?export=download&id=1GOz-jcICYEFZwMgzZdNEP3j7ZMDXIOuo\"\n",
    "    !unzip -f../ watermarking-images.zip\n",
    "    !mv -rf _Images..\n",
    "    !rm../ watermarking-images.zip"
   ]
  },
  {
   "cell_type": "markdown",
   "metadata": {
    "id": "ODWz9n9orgLM"
   },
   "source": [
    "Import one image"
   ]
  },
  {
   "cell_type": "code",
   "execution_count": 7,
   "metadata": {
    "colab": {
     "base_uri": "https://localhost:8080/"
    },
    "executionInfo": {
     "elapsed": 296,
     "status": "ok",
     "timestamp": 1633884118520,
     "user": {
      "displayName": "Andrea Montibeller",
      "photoUrl": "https://lh3.googleusercontent.com/a-/AOh14Gj7PQ870VnPzLePygL2GE1rErIgsIW4QmS9N5kcKw=s64",
      "userId": "02038337912464628386"
     },
     "user_tz": -120
    },
    "id": "ssa-LO3crlxX",
    "outputId": "5e4b7277-4b1e-42bb-fd61-ea2c1f9d74a9"
   },
   "outputs": [
    {
     "name": "stdout",
     "output_type": "stream",
     "text": [
      "Image shape:  (512, 512)\n"
     ]
    }
   ],
   "source": [
    "# Read image\n",
    "im = cv2.imread('../Images/lena.bmp', 0)\n",
    "print('Image shape: ', im.shape)"
   ]
  },
  {
   "cell_type": "markdown",
   "metadata": {
    "id": "_Lk3_X4jroI5"
   },
   "source": [
    "Build a mini dataset of 999 samples for the ROC. \\\\\n",
    "**NOTE**: In this example we use Spread Spectrum. "
   ]
  },
  {
   "cell_type": "code",
   "execution_count": 8,
   "metadata": {
    "executionInfo": {
     "elapsed": 344931,
     "status": "ok",
     "timestamp": 1633880571500,
     "user": {
      "displayName": "Andrea Montibeller",
      "photoUrl": "https://lh3.googleusercontent.com/a-/AOh14Gj7PQ870VnPzLePygL2GE1rErIgsIW4QmS9N5kcKw=s64",
      "userId": "02038337912464628386"
     },
     "user_tz": -120
    },
    "id": "PjbedqIcnDZw"
   },
   "outputs": [],
   "source": [
    "#some parameters for the spread spectrum\n",
    "mark_size = 1024\n",
    "alpha = 24  #0.1\n",
    "v = 'additive'\n",
    "# np.random.seed(seed=124)\n",
    "\n",
    "#scores and labels are two lists we will use to append the values of similarity and their labels\n",
    "#In scores we will append the similarity between our watermarked image and the attacked one, \n",
    "# or  between the attacked watermark and a random watermark\n",
    "#In labels we will append the 1 if the scores was computed between the watermarked image and the attacked one,\n",
    "#and 0 otherwise\n",
    "scores = []\n",
    "labels = []\n",
    "#Embed Watermark\n",
    "mark, watermarked = embedding(im, mark_size, alpha, v)\n",
    "\n",
    "sample = 0\n",
    "while sample < 999:\n",
    "    #fakemark is the watermark for H0\n",
    "    fakemark = np.random.uniform(0.0, 1.0, mark_size)\n",
    "    fakemark = np.uint8(np.rint(fakemark))\n",
    "    #random attack to watermarked image\n",
    "    res_att = random_attack(watermarked)\n",
    "    #extract attacked watermark\n",
    "    w_ex = detection(im, res_att, mark, mark_size, v)\n",
    "    #compute similarity H1\n",
    "    scores.append(similarity(mark, w_ex))\n",
    "    labels.append(1)\n",
    "    #compute similarity H0\n",
    "    scores.append(similarity(fakemark, w_ex))\n",
    "    labels.append(0)\n",
    "    sample += 1"
   ]
  },
  {
   "cell_type": "markdown",
   "metadata": {
    "id": "wb4cjw6EMQQB"
   },
   "source": [
    "Compute the ROC"
   ]
  },
  {
   "cell_type": "code",
   "execution_count": 9,
   "metadata": {
    "colab": {
     "base_uri": "https://localhost:8080/",
     "height": 349
    },
    "executionInfo": {
     "elapsed": 49,
     "status": "ok",
     "timestamp": 1633880571505,
     "user": {
      "displayName": "Andrea Montibeller",
      "photoUrl": "https://lh3.googleusercontent.com/a-/AOh14Gj7PQ870VnPzLePygL2GE1rErIgsIW4QmS9N5kcKw=s64",
      "userId": "02038337912464628386"
     },
     "user_tz": -120
    },
    "id": "S4IiBWcIL9gh",
    "outputId": "2a4f15d3-20dd-41cb-c12c-389f2a7550be"
   },
   "outputs": [
    {
     "data": {
      "image/png": "[encoded data removed]",
      "text/plain": [
       "<Figure size 432x288 with 1 Axes>"
      ]
     },
     "metadata": {
      "needs_background": "light"
     },
     "output_type": "display_data"
    },
    {
     "name": "stdout",
     "output_type": "stream",
     "text": [
      "For a FPR approximately equals to 0.05 corresponds a TPR equals to 0.68\n",
      "For a FPR approximately equals to 0.05 corresponds a threshold equals to 13.17\n",
      "Check FPR 0.05\n"
     ]
    }
   ],
   "source": [
    "import numpy as np\n",
    "import matplotlib.pyplot as plt\n",
    "\n",
    "from sklearn.metrics import roc_curve, auc\n",
    "\n",
    "#compute ROC\n",
    "fpr, tpr, tau = roc_curve(np.asarray(labels), np.asarray(scores), drop_intermediate=False)\n",
    "#compute AUC\n",
    "roc_auc = auc(fpr, tpr)\n",
    "plt.figure()\n",
    "lw = 2\n",
    "\n",
    "plt.plot(fpr, tpr, color='darkorange',\n",
    "         lw=lw, label='AUC = %0.2f' % roc_auc)\n",
    "plt.plot([0, 1], [0, 1], color='navy', lw=lw, linestyle='--')\n",
    "plt.xlim([-0.01, 1.0])\n",
    "plt.ylim([0.0, 1.05])\n",
    "plt.xlabel('False Positive Rate')\n",
    "plt.ylabel('True Positive Rate')\n",
    "plt.title('Receiver operating characteristic example')\n",
    "plt.legend(loc=\"lower right\")\n",
    "plt.show()\n",
    "idx_tpr = np.where((fpr - 0.05) == min(i for i in (fpr - 0.05) if i > 0))\n",
    "print('For a FPR approximately equals to 0.05 corresponds a TPR equals to %0.2f' % tpr[idx_tpr[0][0]])\n",
    "print('For a FPR approximately equals to 0.05 corresponds a threshold equals to %0.2f' % tau[idx_tpr[0][0]])\n",
    "print('Check FPR %0.2f' % fpr[idx_tpr[0][0]])"
   ]
  },
  {
   "cell_type": "markdown",
   "metadata": {
    "id": "60kBNJN9pQow"
   },
   "source": [
    "#**EXERCISE 1**\n",
    "\n",
    "Modify this code with your watermarking method and compute the ROC. Then print the TPR and threshold for FPR == 0.05"
   ]
  },
  {
   "cell_type": "code",
   "execution_count": 10,
   "metadata": {
    "id": "fxhxzdFUpiGX"
   },
   "outputs": [],
   "source": [
    "# np.random.seed(seed=123)\n",
    "#import an image\n",
    "im = cv2.imread('../Images/lena.bmp', 0)\n",
    "print('Image shape: ', im.shape)\n",
    "#generate your watermark (if it is necessary)\n",
    "'''YOUR CODE'''\n",
    "\n",
    "#scores and labels are two lists we will use to append the values of similarity and their labels\n",
    "#In scores we will append the similarity between our watermarked image and the attacked one, \n",
    "# or  between the attacked watermark and a random watermark\n",
    "#In labels we will append the 1 if the scores was computed between the watermarked image and the attacked one,\n",
    "#and 0 otherwise\n",
    "scores = []\n",
    "labels = []\n",
    "#Embed Watermark\n",
    "'''YOUR CODE'''\n",
    "\n",
    "sample = 0\n",
    "while sample < 999:\n",
    "    #fakemark is the watermark for H0\n",
    "    fakemark = np.random.uniform(0.0, 1.0, mark_size)\n",
    "    fakemark = np.uint8(np.rint(fakemark))\n",
    "    #random attack to watermarked image (you can modify it)\n",
    "    res_att = random_attack(watermarked)\n",
    "    #extract attacked watermark\n",
    "\n",
    "    '''YOUR CODE'''\n",
    "\n",
    "    #compute similarity H1\n",
    "    scores.append(similarity(mark, w_ex))\n",
    "    labels.append(1)\n",
    "    #compute similarity H0\n",
    "    scores.append(similarity(fakemark, w_ex))\n",
    "    labels.append(0)\n",
    "    sample += 1"
   ]
  },
  {
   "cell_type": "markdown",
   "metadata": {
    "id": "1KxYkezxqd6p"
   },
   "source": [
    "#**EXERCISE 2**\n",
    "To find a better threshold estimation, do not use just one single image. Adapt the code you implement to compute the scores on different images (i.e. Lena, Baboon, etc.)"
   ]
  },
  {
   "cell_type": "code",
   "execution_count": 11,
   "metadata": {
    "id": "uO8NVUCJq5UW"
   },
   "outputs": [
    {
     "data": {
      "text/plain": [
       "'YOUR CODE'"
      ]
     },
     "execution_count": 11,
     "metadata": {},
     "output_type": "execute_result"
    }
   ],
   "source": [
    "'''YOUR CODE'''"
   ]
  }
 ],
 "metadata": {
  "colab": {
   "authorship_tag": "ABX9TyMBZJ4qPR1xTUDY8ELJYA75",
   "collapsed_sections": [],
   "name": "ROC.ipynb",
   "provenance": []
  },
  "kernelspec": {
   "display_name": "Python 3 (ipykernel)",
   "language": "python",
   "name": "python3"
  },
  "language_info": {
   "codemirror_mode": {
    "name": "ipython",
    "version": 3
   },
   "file_extension": ".py",
   "mimetype": "text/x-python",
   "name": "python",
   "nbconvert_exporter": "python",
   "pygments_lexer": "ipython3",
   "version": "3.9.7"
  }
 },
 "nbformat": 4,
 "nbformat_minor": 1
}