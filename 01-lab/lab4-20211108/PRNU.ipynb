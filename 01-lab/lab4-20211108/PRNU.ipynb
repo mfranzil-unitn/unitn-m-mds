{
 "nbformat": 4,
 "nbformat_minor": 0,
 "metadata": {
  "colab": {
   "name": "PRNU.ipynb",
   "provenance": [],
   "collapsed_sections": []
  },
  "kernelspec": {
   "name": "pycharm-31b1fb8c",
   "language": "python",
   "display_name": "PyCharm (unitn-m-mds)"
  },
  "language_info": {
   "name": "python"
  }
 },
 "cells": [
  {
   "cell_type": "markdown",
   "metadata": {
    "id": "AB83H9koFwDO"
   },
   "source": [
    "#**Photo Response Non-Uniformity (PRNU)** - An Overview#"
   ]
  },
  {
   "cell_type": "markdown",
   "metadata": {
    "id": "NU9WWYFDGRK1"
   },
   "source": [
    "**What is it?:**\n",
    "* a scant residual introduced by the sensor of the camera of your devices\n",
    "* unique\n",
    "* sensible to spatial transformations \n",
    "\n",
    "\n",
    "**Where is it used?**\n",
    "* Device Identification\n",
    "* Tampering Detection\n",
    "\n",
    "**Main Problems:**\n",
    "* Spatial Transformations (i.e. crop, up-scaling, down-scaling, radial corrections, and many more desynchronize the PRNU and make it unreliable\n",
    "* JPEG compressions reduce its reliablity"
   ]
  },
  {
   "cell_type": "markdown",
   "metadata": {
    "id": "gQ0Od7xGHx8Q"
   },
   "source": [
    "##How do you extract the PRNU?##"
   ]
  },
  {
   "cell_type": "markdown",
   "metadata": {
    "id": "vSQ5yhgNAP0q"
   },
   "source": [
    "- Wavelet Denoiser NoiseExtractFromImage()\n",
    "- Zero Mean by Row and Columns\n",
    "- Wiener Filter in DFT\n"
   ]
  },
  {
   "cell_type": "code",
   "metadata": {
    "id": "ls01o7mL9KhT",
    "colab": {
     "base_uri": "https://localhost:8080/"
    },
    "outputId": "83f3dde5-ef93-4a8b-a95a-c5480f1d2c25"
   },
   "source": [
    "#install requirements\n",
    "!pip install scipy == 1.4.1\n",
    "!pip install matplotlib == 3.3.3\n",
    "!pip install opencv-python == 4.1.2.30"
   ],
   "execution_count": null,
   "outputs": []
  },
  {
   "cell_type": "markdown",
   "metadata": {
    "id": "ojQLGSrYZMmq"
   },
   "source": [
    "[info and papers about PRNU](http://dde.binghamton.edu/download/camera_fingerprint/)"
   ]
  },
  {
   "cell_type": "code",
   "metadata": {
    "id": "FOsPycCVHxdE",
    "colab": {
     "base_uri": "https://localhost:8080/"
    },
    "outputId": "cb19e31b-b7cc-4897-d960-dfd1288afa9c"
   },
   "source": [
    "import os\n",
    "!pip install binghamton-camerafp\n",
    "# The package has been removed by author's request.\n",
    "# Visit the aforementioned website for a copy of the library."
   ],
   "execution_count": null,
   "outputs": []
  },
  {
   "cell_type": "code",
   "metadata": {
    "id": "GSyWXb8E-U-0"
   },
   "source": [
    "os.chdir('code/CameraFingerprint')"
   ],
   "execution_count": null,
   "outputs": []
  },
  {
   "cell_type": "markdown",
   "metadata": {
    "id": "NfvW9ydK8SIA"
   },
   "source": [
    "##**Example1 Device Identification**##\n",
    "**[Match between Camera Fingerprint and PRNU of the Image]**"
   ]
  },
  {
   "cell_type": "code",
   "metadata": {
    "colab": {
     "base_uri": "https://localhost:8080/",
     "height": 368
    },
    "id": "0P_JKK2j87xK",
    "outputId": "7d1fba0e-d686-49d2-bba9-7321e937c424"
   },
   "source": [
    "import camerafp.functions as Fu\n",
    "import camerafp.filter as Ft\n",
    "import camerafp.get_fingerprint as gF\n",
    "import camerafp.maindir as md\n",
    "import camerafp.extra_utils as eu\n",
    "import numpy as np\n",
    "import os\n",
    "import cv2 as cv\n",
    "\n",
    "# composing the Fingerprint from the images of Camera A\n",
    "im1 = 'Images' + os.sep + 'P1.jpg'\n",
    "im2 = 'Images' + os.sep + 'P2.jpg'\n",
    "im3 = 'Images' + os.sep + 'P3.jpg'\n",
    "Images = [im1, im2, im3]\n",
    "\n",
    "RP, _, _ = gF.getFingerprint(Images)\n",
    "RP = Fu.rgb2gray1(RP)\n",
    "sigmaRP = np.std(RP)\n",
    "Fingerprint = Fu.WienerInDFT(RP, sigmaRP)\n",
    "\n",
    "#extracting the PRNU from another image of Camera A\n",
    "imx = 'Images' + os.sep + 'Pxxx.jpg'\n",
    "Noisex = Ft.NoiseExtractFromImage(imx, sigma=2.)\n",
    "Noisex = Fu.WienerInDFT(Noisex, np.std(Noisex))\n",
    "\n",
    "# The optimal detector (see publication \"Large Scale Test of Sensor Fingerprint Camera Identification\")\n",
    "Ix = cv.cvtColor(cv.imread(imx),  # image in BGR format\n",
    "                 cv.COLOR_BGR2GRAY)\n",
    "\n",
    "#compute the peak of correlation energy PCE (the measure of similarity between Noisex and Fingerprint)\n",
    "C = Fu.crosscorr(Noisex, np.multiply(Ix, Fingerprint))\n",
    "det, det0 = md.PCE(C)\n",
    "for key in det.keys(): print(\"{0}: {1}\".format(key, det[key]))\n",
    "eu.mesh(C)"
   ],
   "execution_count": null,
   "outputs": []
  },
  {
   "cell_type": "markdown",
   "metadata": {
    "id": "XVH0JqPNKFFZ"
   },
   "source": [
    "##**Example2 Device Identification**##\n",
    " **[mis-Match between Camera Fingerprint and PRNU of the Image]**"
   ]
  },
  {
   "cell_type": "code",
   "metadata": {
    "colab": {
     "base_uri": "https://localhost:8080/"
    },
    "id": "_waSgIb3KWgW",
    "outputId": "87b3dcce-0947-4e9b-8515-fd31445a7801"
   },
   "source": [
    "if not os.path.exists('im_H0.jpg'):\n",
    "    !wget -O im_H0.jpg \"https://drive.google.com/uc?export=download&id=1tpiLPOVvKiBKYo6wfkoXCa89Vye9u6dO\""
   ],
   "execution_count": null,
   "outputs": []
  },
  {
   "cell_type": "code",
   "metadata": {
    "colab": {
     "base_uri": "https://localhost:8080/",
     "height": 368
    },
    "id": "rv7NiTP3KH9V",
    "outputId": "4d4f197e-3389-4b18-87e8-06e3ce67f687"
   },
   "source": [
    "\n",
    "# composing the Fingerprint from the images of Camera A\n",
    "im1 = 'Images' + os.sep + 'P1.jpg'\n",
    "im2 = 'Images' + os.sep + 'P2.jpg'\n",
    "im3 = 'Images' + os.sep + 'P3.jpg'\n",
    "Images = [im1, im2, im3]\n",
    "\n",
    "RP, _, _ = gF.getFingerprint(Images)\n",
    "RP = Fu.rgb2gray1(RP)\n",
    "sigmaRP = np.std(RP)\n",
    "Fingerprint = Fu.WienerInDFT(RP, sigmaRP)\n",
    "\n",
    "#extract the PRNU from an image of Camera B (i.e. Camera A and Camera B are NOT the same device)\n",
    "imx = 'im_H0.jpg'\n",
    "Noisex = Ft.NoiseExtractFromImage(imx, sigma=2.)\n",
    "Noisex = Fu.WienerInDFT(Noisex, np.std(Noisex))\n",
    "\n",
    "# The optimal detector (see publication \"Large Scale Test of Sensor Fingerprint Camera Identification\")\n",
    "Ix = cv.cvtColor(cv.imread(imx),  # image in BGR format\n",
    "                 cv.COLOR_BGR2GRAY)\n",
    "\n",
    "#compute the peak of correlation energy PCE (the measure of similarity between Noisex and Fingerprint)\n",
    "C = Fu.crosscorr(Noisex, np.multiply(Ix, Fingerprint))\n",
    "det, det0 = md.PCE(C)\n",
    "for key in det.keys(): print(\"{0}: {1}\".format(key, det[key]))\n",
    "eu.mesh(C)"
   ],
   "execution_count": null,
   "outputs": []
  },
  {
   "cell_type": "markdown",
   "metadata": {
    "id": "DpCrtW_4BCA6"
   },
   "source": [
    "##**Example3: Tampering Detection**##"
   ]
  },
  {
   "cell_type": "code",
   "metadata": {
    "colab": {
     "base_uri": "https://localhost:8080/"
    },
    "id": "eH1x-KxdXwmS",
    "outputId": "053a79a1-1a59-43f9-9040-fa7dab0b3a35"
   },
   "source": [
    "!pip install gdown"
   ],
   "execution_count": null,
   "outputs": []
  },
  {
   "cell_type": "code",
   "metadata": {
    "colab": {
     "base_uri": "https://localhost:8080/"
    },
    "id": "aiIrzdZ3AkzS",
    "outputId": "35e19f0d-f8cc-4913-b4cc-d2f5d87a92e8"
   },
   "source": [
    "import os\n",
    "\n",
    "#import test image\n",
    "if not os.path.exists('IMG_0047.jpg'):\n",
    "    !wget -O IMG_0047.jpg \"https://drive.google.com/uc?export=download&id=1HTD86ybdjfBvg7AOyxaQfxyB1YphU5Uk\"\n",
    "#import camera fingerprint\n",
    "if not os.path.exists('Fingerprint_CanonEOS1200d.dat'):\n",
    "    !gdown https: // drive.google.com / uc?id=1qy2R4AsxkOnkOULBkMFR9SzT7QifTr5C"
   ],
   "execution_count": null,
   "outputs": []
  },
  {
   "cell_type": "code",
   "metadata": {
    "id": "1wJuNXOsBOJZ",
    "colab": {
     "base_uri": "https://localhost:8080/",
     "height": 599
    },
    "outputId": "47976e34-cd2c-4694-aa78-637f0d021b3a"
   },
   "source": [
    "import matplotlib.image as mpimg\n",
    "\n",
    "#read camera fingerprint\n",
    "Fingerprint = np.genfromtxt('Fingerprint_CanonEOS1200d.dat')\n",
    "print('SIZE CAMERA FINGERPRINT: ', np.shape(Fingerprint))\n",
    "\n",
    "imx = 'IMG_0047.jpg'\n",
    "img = mpimg.imread(imx)\n",
    "#extract PRNU from  an image presumely taken with the same camera of Fingerprint\n",
    "Noisex = Ft.NoiseExtractFromImage(imx, sigma=2.)\n",
    "Noisex = Fu.WienerInDFT(Noisex, np.std(Noisex))\n",
    "print('SIZE PRNU IMAGE: ', np.shape(Noisex))\n",
    "\n",
    "if np.shape(Noisex) == np.shape(Fingerprint):\n",
    "    print('Camera Fingerprint and Image PRNU size are the same. CASE: Perfectly aligned!')\n",
    "    shift_range = [0, 0]\n",
    "else:\n",
    "    print('Camera Fingerprint and Image PRNU size are NOT the same. CASE: NOT perfectly aligned!')\n",
    "    Noisex1 = np.zeros_like(Fingerprint)\n",
    "    Noisex1[:Noisex.shape[0], :Noisex.shape[1]] = Noisex\n",
    "    Noisex = Noisex1\n",
    "\n",
    "#divide image and fingerprint by blocks and compute the PCE of each block\n",
    "blocks_x = np.arange(0, Noisex.shape[0], 64)\n",
    "blocks_y = np.arange(0, Noisex.shape[1], 64)\n",
    "PCE_map = np.zeros((len(blocks_x), len(blocks_y)))\n",
    "for y in range(0, len(blocks_y)):\n",
    "    for x in range(0, len(blocks_x)):\n",
    "        block_Noisex = Noisex[blocks_x[x]:blocks_x[x] + 64, blocks_y[y]:blocks_y[y] + 64]\n",
    "        block_Fingerprint = Fingerprint[blocks_x[x]:blocks_x[x] + 64, blocks_y[y]:blocks_y[y] + 64]\n",
    "        C = Fu.crosscorr(block_Noisex, block_Fingerprint)\n",
    "        det, det0 = md.PCE(C)\n",
    "        PCE_map[x, y] = det['PCE']\n",
    "import matplotlib.pyplot as plt\n",
    "\n",
    "plt.imshow(PCE_map)\n",
    "plt.title('Detection PCE-map')\n",
    "plt.show()\n",
    "plt.imshow(img)\n",
    "plt.title('Tampered Image')\n",
    "plt.show()"
   ],
   "execution_count": null,
   "outputs": []
  },
  {
   "cell_type": "markdown",
   "metadata": {
    "id": "PfyOqDdcBOdm"
   },
   "source": [
    "##**The spatial transformation's problem**##\n",
    "Example: Radial Correction"
   ]
  },
  {
   "cell_type": "code",
   "metadata": {
    "id": "oX5HOSxO9mtJ",
    "colab": {
     "base_uri": "https://localhost:8080/"
    },
    "outputId": "2a838a72-80cc-469a-91ff-5d85f9038cec"
   },
   "source": [
    "import os\n",
    "\n",
    "#import test image\n",
    "if not os.path.exists('im5.jpg'):\n",
    "    !wget -O im5.jpg \"https://drive.google.com/uc?export=download&id=1Q9lDMcG0-sps-GLw2NuSgaa_CeLuKGv2\"\n",
    "#import camera fingerprint\n",
    "if not os.path.exists('FINGERPRINT_CanonSX230HS_focal70.dat'):\n",
    "    !wget -O FINGERPRINT_CanonSX230HS_focal70.dat \"https://drive.google.com/uc?export=download&id=1xJnSw-lSouswj5EpDzkWR2oGJDfOuhEe\"\n"
   ],
   "execution_count": null,
   "outputs": []
  },
  {
   "cell_type": "code",
   "metadata": {
    "colab": {
     "base_uri": "https://localhost:8080/",
     "height": 345
    },
    "id": "WdSFNHiSId1m",
    "outputId": "70fe5ecc-dfb1-4ce5-b07c-50e23c409c83"
   },
   "source": [
    "#read camera fingerprint\n",
    "Fingerprint = np.genfromtxt('FINGERPRINT_CanonSX230HS_focal70.dat')\n",
    "print('SIZE CAMERA FINGERPRINT: ', np.shape(Fingerprint))\n",
    "\n",
    "#extract PRNU from image taken with the same camera of Fingerprint\n",
    "imx = 'im5.jpg'\n",
    "Noisex = Ft.NoiseExtractFromImage(imx, sigma=2.)\n",
    "Noisex = Fu.WienerInDFT(Noisex, np.std(Noisex))\n",
    "print('SIZE PRNU IMAGE: ', np.shape(Noisex))\n",
    "\n",
    "if np.shape(Noisex) == np.shape(Fingerprint):\n",
    "    print('Camera Fingerprint and Image PRNU size are the same. CASE: Perfectly aligned!')\n",
    "    shift_range = [0, 0]\n",
    "    C = Fu.crosscorr(Noisex, Fingerprint)\n",
    "else:\n",
    "    print('Camera Fingerprint and Image PRNU size are NOT the same. CASE: NOT perfectly aligned!')\n",
    "    Noisex1 = np.zeros_like(Fingerprint)\n",
    "    Noisex1[:Noisex.shape[0], :Noisex.shape[1]] = Noisex\n",
    "    shift_range = [Fingerprint.shape[0] - Noisex.shape[0], Fingerprint.shape[1] - Noisex.shape[1]]\n",
    "    C = Fu.crosscorr(Noisex1, Fingerprint)\n",
    "\n",
    "#compute the peak of correlation energy PCE (the measure of similarity between Noisex and Fingerprint)\n",
    "det, det0 = md.PCE(C, shift_range=shift_range)\n",
    "print(\"{0}: {1}\".format('PCE', det['PCE']))\n",
    "print(\"{0}: {1}\".format('PeakLocation', det['PeakLocation']))\n",
    "eu.mesh(C)"
   ],
   "execution_count": null,
   "outputs": []
  },
  {
   "cell_type": "markdown",
   "metadata": {
    "id": "QlvEQ8JA2QwJ"
   },
   "source": [
    "Example: Down-scaling"
   ]
  },
  {
   "cell_type": "code",
   "metadata": {
    "colab": {
     "base_uri": "https://localhost:8080/"
    },
    "id": "uLfG4XIa3r8c",
    "outputId": "40ff961a-b3ca-4b06-b322-99f8bd9c81ae"
   },
   "source": [
    "import os\n",
    "\n",
    "#import test image\n",
    "if not os.path.exists('im_downscale.jpg'):\n",
    "    !wget -O im_downscale.jpg \"https://drive.google.com/uc?export=download&id=1kmPotOdLBSZGKPPFHmVjaXuyRWxQVvLS\"\n",
    "#import camera fingerprint\n",
    "if not os.path.exists('FINGERPRINT_D01.dat'):\n",
    "    !wget -O FINGERPRINT_D01.dat \"https://drive.google.com/uc?export=download&id=1DmNH1hLzsQ_rFcF2DB7VvNHiaZhoy7HH\""
   ],
   "execution_count": null,
   "outputs": []
  },
  {
   "cell_type": "code",
   "metadata": {
    "colab": {
     "base_uri": "https://localhost:8080/",
     "height": 349
    },
    "id": "z7cTfscr3oc1",
    "outputId": "59781352-5e2a-4f9e-b1c3-42e76419ae4e"
   },
   "source": [
    "#read camera fingerprint\n",
    "Fingerprint = np.genfromtxt('FINGERPRINT_D01.dat')\n",
    "print('SIZE CAMERA FINGERPRINT: ', np.shape(Fingerprint))\n",
    "\n",
    "#extract PRNU from image taken with the same camera of Fingerprint\n",
    "imx = 'im_downscale.jpg'\n",
    "Noisex = Ft.NoiseExtractFromImage(imx, sigma=2.)\n",
    "Noisex = Fu.WienerInDFT(Noisex, np.std(Noisex))\n",
    "print('SIZE PRNU IMAGE: ', np.shape(Noisex))\n",
    "\n",
    "if np.shape(Noisex) == np.shape(Fingerprint):\n",
    "    print('Camera Fingerprint and Image PRNU size are the same. CASE: Perfectly aligned!')\n",
    "    shift_range = [0, 0]\n",
    "    C = Fu.crosscorr(Noisex1, Fingerprint)\n",
    "else:\n",
    "    print('Camera Fingerprint and Image PRNU size are NOT the same. CASE: NOT perfectly aligned!')\n",
    "    Noisex1 = np.zeros_like(Fingerprint)\n",
    "    Noisex1[:Noisex.shape[0], :Noisex.shape[1]] = Noisex\n",
    "    shift_range = [Fingerprint.shape[0] - Noisex.shape[0], Fingerprint.shape[1] - Noisex.shape[1]]\n",
    "    C = Fu.crosscorr(Noisex1, Fingerprint)\n",
    "\n",
    "det, det0 = md.PCE(C, shift_range=shift_range)\n",
    "#for key in det.keys(): print(\"{0}: {1}\".format(key, det[key]))\n",
    "print(\"{0}: {1}\".format('PCE', det['PCE']))\n",
    "print(\"{0}: {1}\".format('PeakLocation', det['PeakLocation']))\n",
    "eu.mesh(C)\n"
   ],
   "execution_count": null,
   "outputs": []
  },
  {
   "cell_type": "markdown",
   "metadata": {
    "id": "HOa_55C0Bu6h"
   },
   "source": [
    "**Exercise 1**\n",
    "\n",
    "Determine which image was taken with the same device of the images used to compose the camera fingerprint.\n",
    "\n",
    "**TIP**: There's only one image and it has the highest PCE value."
   ]
  },
  {
   "cell_type": "code",
   "metadata": {
    "id": "xcIJuUSIT4lw",
    "colab": {
     "base_uri": "https://localhost:8080/"
    },
    "outputId": "5737b7e7-ed3e-49f7-bc13-78f1300982e8"
   },
   "source": [
    "import os\n",
    "\n",
    "#import test image\n",
    "if not os.path.exists('im1.jpg'):\n",
    "    !wget -O im1.jpg \"https://drive.google.com/uc?export=download&id=1V3uJT-m2uPXlxlQuGRY6Z5CJzNl89Sgp\"\n",
    "#import test image\n",
    "if not os.path.exists('im2.jpg'):\n",
    "    !wget -O im2.jpg \"https://drive.google.com/uc?export=download&id=1JYaAlb4lg2cYq8RSJhnyKg0YNixBhGLg\"\n",
    "#import test image\n",
    "if not os.path.exists('im3.jpg'):\n",
    "    !wget -O im3.jpg \"https://drive.google.com/uc?export=download&id=1SMcJr3hwiBL2Z8oA_ougneBtlYE-4lv_\"\n",
    "#import test image\n",
    "if not os.path.exists('im4.jpg'):\n",
    "    !wget -O im4.jpg \"https://drive.google.com/uc?export=download&id=1OcvvchD6iXKG5NulA8RxR61S8J9k9GwU\""
   ],
   "execution_count": null,
   "outputs": []
  },
  {
   "cell_type": "code",
   "metadata": {
    "id": "bDBOWCbwCSX8",
    "colab": {
     "base_uri": "https://localhost:8080/",
     "height": 35
    },
    "outputId": "68e795cb-71f8-45f5-f280-e032a0b4978f"
   },
   "source": [
    "# extracting Fingerprint from same size images in a path\n",
    "im1 = 'Images' + os.sep + 'P1.jpg'\n",
    "im2 = 'Images' + os.sep + 'P2.jpg'\n",
    "im3 = 'Images' + os.sep + 'P3.jpg'\n",
    "Images = [im1, im2, im3]\n",
    "\n",
    "RP, _, _ = gF.getFingerprint(Images)\n",
    "RP = Fu.rgb2gray1(RP)\n",
    "sigmaRP = np.std(RP)\n",
    "Fingerprint = Fu.WienerInDFT(RP, sigmaRP)\n",
    "#import images and extract their PRNU\n",
    "imx = ['im1.jpg', 'im2.jpg', 'im3.jpg', 'im4.jpg']\n",
    "'''\n",
    "YOUR CODE\n",
    "'''\n",
    "#COMPUTE AND PRINT ONE BY ONE THE PCE VALUES TO DETECT THE IMAGE TAKEN WITH THE\n",
    "#SAME CAMERA OF FINGERPRINT\n",
    "'''\n",
    "YOUR CODE\n",
    "'''"
   ],
   "execution_count": null,
   "outputs": []
  },
  {
   "cell_type": "markdown",
   "metadata": {
    "id": "dOn40h9DCTHF"
   },
   "source": [
    "##**Exercise 2**#\n",
    "Find the parameter able to reverse the **down-scaling** spatial transformation and maximize the final PCE value (~70 is the goal). \\\\\n"
   ]
  },
  {
   "cell_type": "code",
   "metadata": {
    "colab": {
     "base_uri": "https://localhost:8080/"
    },
    "id": "4Z5voX7mmts9",
    "outputId": "7ba41f9b-870d-412b-f514-7ccfdd3533a4"
   },
   "source": [
    "import os\n",
    "\n",
    "#import test image\n",
    "if not os.path.exists('frame.png'):\n",
    "    !wget -O frame.png \"https://drive.google.com/uc?export=download&id=1ZKxSK3VKMJCKtgEmSjG4XXBeaFNRqCLe\"\n"
   ],
   "execution_count": null,
   "outputs": []
  },
  {
   "cell_type": "code",
   "metadata": {
    "colab": {
     "base_uri": "https://localhost:8080/"
    },
    "id": "QBod0QXeXvVh",
    "outputId": "a010e6d1-d296-4b5f-f64e-e0a3fc66f43c"
   },
   "source": [
    "from skimage.transform import rescale\n",
    "\n",
    "#read camera fingerprint\n",
    "Fingerprint = np.genfromtxt('FINGERPRINT_D01.dat')\n",
    "print('SIZE CAMERA FINGERPRINT: ', np.shape(Fingerprint))\n",
    "\n",
    "#extract PRNU from image\n",
    "imx = 'frame.png'\n",
    "Noisex = Ft.NoiseExtractFromImage(imx, sigma=2.)\n",
    "Noisex = Fu.WienerInDFT(Noisex, np.std(Noisex))\n",
    "print('SIZE PRNU IMAGE: ', np.shape(Noisex))\n",
    "\n",
    "if np.shape(Noisex) == np.shape(Fingerprint):\n",
    "    print('Camera Fingerprint and Image PRNU size are the same. CASE: Perfectly aligned!')\n",
    "    shift_range = [0, 0]\n",
    "    C = Fu.crosscorr(Noisex1, Fingerprint)\n",
    "else:\n",
    "    print('Camera Fingerprint and Image PRNU size are NOT the same. CASE: NOT perfectly aligned!')\n",
    "    Noisex1 = np.zeros_like(Fingerprint)\n",
    "    Noisex1[:Noisex.shape[0], :Noisex.shape[1]] = Noisex\n",
    "    shift_range = [Fingerprint.shape[0] - Noisex.shape[0], Fingerprint.shape[1] - Noisex.shape[1]]\n",
    "    C = Fu.crosscorr(Noisex1, Fingerprint)\n",
    "\n",
    "det, det0 = md.PCE(C, shift_range=shift_range)\n",
    "print('PCE value before down-scaling inversion (i.e. upscaling)')\n",
    "print(\"{0}: {1}\".format('PCE', det['PCE']))\n",
    "\n",
    "k = 1\n",
    "while k >= 0.49999:\n",
    "    #rescale your image\n",
    "    Noisex_up = rescale(Noisex, 1 / k)\n",
    "    '''\n",
    "    YOUR CODE\n",
    "    '''"
   ],
   "execution_count": null,
   "outputs": []
  },
  {
   "cell_type": "markdown",
   "metadata": {
    "id": "ByjQMdZUinaS"
   },
   "source": [
    "**Possibily there's a smarter way to find k (in one shot)! Can you guess it?** \\\\\n",
    "TIP: the camera fingerprint is composed with images, instead the PRNU is extracted from a video frame taken with the same device of the camera fingerprint. \\\\\n",
    "If you find the solution, **let us know** :-)"
   ]
  },
  {
   "cell_type": "code",
   "metadata": {
    "id": "STiR6e3EWKc-"
   },
   "source": [],
   "execution_count": null,
   "outputs": []
  },
  {
   "cell_type": "markdown",
   "metadata": {
    "id": "zzgJWj6ACs2V"
   },
   "source": [
    "##**Exercise 3**#\n",
    "Find the parameters able to reverse the **radial correction** spatial transformation applied to the test image. GOAL: PCE ~250 \\\\\n"
   ]
  },
  {
   "cell_type": "markdown",
   "metadata": {
    "id": "pKxsnT1bXzdF"
   },
   "source": [
    "Useful functions to reverse the radial correction : -------- )"
   ]
  },
  {
   "cell_type": "code",
   "metadata": {
    "id": "EGXlDd5CXzGy"
   },
   "source": [
    "from scipy.interpolate import interp1d\n",
    "import numpy as np\n",
    "import warnings\n",
    "\n",
    "warnings.filterwarnings('ignore')\n",
    "\n",
    "\n",
    "def radial_cordinates(M, N):\n",
    "    center = [M / 2, N / 2]\n",
    "    xi, yi = np.meshgrid(np.arange(M), np.arange(N))\n",
    "    xt = xi - center[0]\n",
    "    yt = yi - center[1]\n",
    "    r = np.sqrt(xt ** 2 + yt ** 2)\n",
    "    theta = np.arctan2(xt, yt)\n",
    "    R = np.sqrt(center[0] ** 2 + center[1] ** 2)\n",
    "    r = r / R\n",
    "    return r, theta, R, xi, yi, center, xt, yt\n",
    "\n",
    "\n",
    "def distortfct(r, k):\n",
    "    s = r * (1 - k * (r ** 2) + 3 * (k ** 2) * (r ** 4))\n",
    "    return s\n",
    "\n",
    "\n",
    "def imdistcorrect(img, k, r, theta, R, xi, yi, M, N):\n",
    "    s = distortfct(r, k)\n",
    "    s2 = s * R\n",
    "    v = s2 * np.cos(theta)\n",
    "    u = s2 * np.sin(theta)\n",
    "    #PIPELINE BARRELL\n",
    "    if np.amin(np.round(v + np.abs(np.amax((N)) // 2))) < 0:\n",
    "        print('barrell')\n",
    "        v = np.round(v + np.abs(np.amax((N)) // 2))\n",
    "        u = np.round(u + np.abs(np.amax((M)) // 2))\n",
    "        u = u.astype(np.int32)\n",
    "        v = v.astype(np.int32)\n",
    "        dist = np.zeros([np.max(v + 1), np.max(u + 1)])\n",
    "        dist[yi[np.logical_and(v < N - 1, v > 0) * np.logical_and(u < M - 1, u > 0)], xi[\n",
    "            np.logical_and(v < N - 1, v > 0) * np.logical_and(u < M - 1, u > 0)]] = img[\n",
    "            v[np.logical_and(v < N - 1, v > 0) * np.logical_and(u < M - 1, u > 0)], u[\n",
    "                np.logical_and(v < N - 1, v > 0) * np.logical_and(u < M - 1, u > 0)]]  #yi, xi]#[v, u]  # [yi, xi]\n",
    "    else:\n",
    "        #PIPELINE PINCUSHION\n",
    "        print('pincushion')\n",
    "        v = np.round(v + np.abs(np.amax((N)) // 2))\n",
    "        u = np.round(u + np.abs(np.amax((M)) // 2))\n",
    "        u = u.astype(int)\n",
    "        v = v.astype(int)\n",
    "        dist = np.zeros([np.max(yi + 1), np.max(xi + 1)])\n",
    "        dist[yi, xi] = img[v, u]\n",
    "\n",
    "    dist = bilinear_interpolation(dist)\n",
    "    size_dist = np.shape(dist)\n",
    "    if size_dist[0] * size_dist[1] > M * N:\n",
    "        dist = crop_center(dist, M, N)\n",
    "\n",
    "    return dist\n",
    "\n",
    "\n",
    "def bilinear_interpolation(img):\n",
    "    '''\n",
    "    This function fill the 0 values by interpolating them\n",
    "    '''\n",
    "    x = np.arange(len(img))\n",
    "    img_new = np.zeros(img.shape)\n",
    "    aux_x = []\n",
    "    aux_y = []\n",
    "    for i in range(len(img[0]) - 1):\n",
    "        ix = np.where(img[:, i] != 0)\n",
    "        if (len(ix[0]) != 0):\n",
    "            f = interp1d(x[ix], img[ix, i], fill_value='extrapolate')\n",
    "            img_new[x[ix[0][0]:ix[0][-1]], i] = f(x[ix[0][0]:ix[0][-1]])\n",
    "            aux_y.append(x[0:ix[0][0]])\n",
    "            aux_y.append(x[ix[0][-1]:len(img[0])])\n",
    "            aux_x.append(i * np.ones(len(x[0:ix[0][0]]) + len(x[ix[0][-1]:len(img[0])])))\n",
    "    x = np.arange(len(img[0]))\n",
    "    for i in range(0, (len(img) - 1)):\n",
    "        ix = np.where(img[i, :] != 0)\n",
    "        if (len(ix[0]) != 0):\n",
    "            f = interp1d(x[ix], img[i, ix], fill_value='extrapolate')\n",
    "            img_new[i, x[ix[0][0]:ix[0][-1]]] = f(x[ix[0][0]:ix[0][-1]])\n",
    "            aux_x.append(x[0:ix[0][0]])\n",
    "            aux_x.append(x[ix[0][-1]:len(img[0])])\n",
    "            aux_y.append(i * np.ones(len(x[0:ix[0][0]]) + len(x[ix[0][-1]:len(img[0])])))\n",
    "    aux_x = np.concatenate(np.array(aux_x)).astype(int)\n",
    "    aux_y = np.concatenate(np.array(aux_y)).astype(int)\n",
    "    img_new[aux_y, aux_x] = 0\n",
    "    return img_new\n",
    "\n",
    "\n",
    "def crop_center(img, cropx, cropy):\n",
    "    startx = 0\n",
    "    starty = 0\n",
    "    return img[starty:starty + cropy, startx:startx + cropx]"
   ],
   "execution_count": null,
   "outputs": []
  },
  {
   "cell_type": "markdown",
   "metadata": {
    "id": "-CKz7LSHe5fR"
   },
   "source": [
    "**YOUR CODE**"
   ]
  },
  {
   "cell_type": "code",
   "metadata": {
    "id": "N-Pm6_zrC0K2"
   },
   "source": [
    "#read camera fingerprint\n",
    "Fingerprint = np.genfromtxt('FINGERPRINT_CanonSX230HS_focal70.dat')\n",
    "print('SIZE CAMERA FINGERPRINT: ', np.shape(Fingerprint))\n",
    "\n",
    "#extract PRNU from image\n",
    "imx = 'im5.jpg'\n",
    "Noisex = Ft.NoiseExtractFromImage(imx, sigma=2.)\n",
    "Noisex = Fu.WienerInDFT(Noisex, np.std(Noisex))\n",
    "print('SIZE PRNU IMAGE: ', np.shape(Noisex))\n",
    "\n",
    "if np.shape(Noisex) == np.shape(Fingerprint):\n",
    "    print('Camera Fingerprint and Image PRNU size are the same. CASE: Perfectly aligned!')\n",
    "    shift_range = [0, 0]\n",
    "    C = Fu.crosscorr(Noisex, Fingerprint)\n",
    "else:\n",
    "    print('Camera Fingerprint and Image PRNU size are NOT the same. CASE: NOT perfectly aligned!')\n",
    "    Noisex1 = np.zeros_like(Fingerprint)\n",
    "    Noisex1[:Noisex.shape[0], :Noisex.shape[1]] = Noisex\n",
    "    shift_range = [Fingerprint.shape[0] - Noisex.shape[0], Fingerprint.shape[1] - Noisex.shape[1]]\n",
    "    C = Fu.crosscorr(Noisex1, Fingerprint)\n",
    "det, det0 = md.PCE(C, shift_range=shift_range)\n",
    "print('PCE value before Radial Correction Inversion')\n",
    "print(\"{0}: {1}\".format('PCE', det['PCE']))\n",
    "print(\"{0}: {1}\".format('PeakLocation', det['PeakLocation']))\n",
    "\n",
    "#compute image size\n",
    "M, N = [Noisex.shape[1], Noisex.shape[0]]\n",
    "M = np.asarray(M)\n",
    "N = np.asarray(N)\n",
    "#compute polar coordinate (r, theta), half image diagonal size (R), \n",
    "#cartesian coordinates (xi, yi) and center coordinates\n",
    "r, theta, R, xi, yi, center, _, _ = radial_cordinates(M, N)\n",
    "#apply radial correction inversion with the following parameters\n",
    "k = -0.22\n",
    "while k < 0.23:\n",
    "    Noisex_post = imdistcorrect(Noisex, k, r, theta, R, xi, yi, M, N)\n",
    "    #find the correct k to invert the radial correctoin and maximize the PCE\n",
    "    '''\n",
    "    YOUR CODE\n",
    "    '''"
   ],
   "execution_count": null,
   "outputs": []
  },
  {
   "cell_type": "markdown",
   "metadata": {
    "id": "VDTOsyrdC3y3"
   },
   "source": [
    "##**Exercise 4 | ONLY FOR BRAVE HEARTS**#\n",
    "Find the parameters able to reverse a video stabilization (more info [here](https://drive.google.com/file/d/1sJiPOz0L1D9qU_pNL62ITZoZcaVqpSya/view?usp=sharing)) spatial transformation applied to the test frames. \\\\\n",
    "**TIP**:  To understand if you did it the PCE values of the frames has to be larger than 40. If you succeed and you are able to do it without brute force search algorithm contact us! "
   ]
  },
  {
   "cell_type": "code",
   "metadata": {
    "colab": {
     "base_uri": "https://localhost:8080/"
    },
    "id": "_ofU-1kzr6Ro",
    "outputId": "223c0da4-8e10-4808-ba8a-88c353b129eb"
   },
   "source": [
    "import os\n",
    "\n",
    "#import test image\n",
    "if not os.path.exists('frame1.png'):\n",
    "    !wget -O frame1.png \"https://drive.google.com/uc?export=download&id=1_hIFS2LzuOMF7J-fDM_UksbIyOju2iSH\"\n",
    "if not os.path.exists('frame25.png'):\n",
    "    !wget -O frame25.png \"https://drive.google.com/uc?export=download&id=1lS-yQiDmH5x5fzWfVWJ58VskDTgHwRG5\"\n",
    "if not os.path.exists('frame50.png'):\n",
    "    !wget -O frame50.png \"https://drive.google.com/uc?export=download&id=1tCk8OYr-teiRY5axTrfYZjvzaIjlICLA\"\n",
    "if not os.path.exists('frame75.png'):\n",
    "    !wget -O frame75.png \"https://drive.google.com/uc?export=download&id=1QYpM2t50hJ-OfuhT1uYfjueZ3M_Rsp8G\"\n",
    "#import camera fingerprint\n",
    "if not os.path.exists('FINGERPRINT_D02.dat'):\n",
    "    !gdown https: // drive.google.com / uc?id=15c0kJCbET77a9Iin3MOURRl4PNi7A9U-\n"
   ],
   "execution_count": null,
   "outputs": []
  },
  {
   "cell_type": "markdown",
   "metadata": {
    "id": "8rZhI-MfyaMK"
   },
   "source": [
    "The [function](https://www.tensorflow.org/addons/api_docs/python/tfa/image/transform) you need to use! \\\\\n",
    "[A short tutorial.](https://colab.research.google.com/github/tensorflow/addons/blob/master/docs/tutorials/image_ops.ipynb)"
   ]
  },
  {
   "cell_type": "code",
   "metadata": {
    "colab": {
     "base_uri": "https://localhost:8080/"
    },
    "id": "4LjmjoniyYoJ",
    "outputId": "f148d281-a3fc-47a9-acf3-026d5c603751"
   },
   "source": [
    "!pip install tensorflow == 2.2.0\n",
    "!pip install -U tensorflow-addons == 0.11.2"
   ],
   "execution_count": null,
   "outputs": []
  },
  {
   "cell_type": "markdown",
   "metadata": {
    "id": "8BCQt20i2flo"
   },
   "source": [
    "for more details on param refer to this slide"
   ]
  },
  {
   "cell_type": "code",
   "metadata": {
    "id": "iNXnl8N-00Qs"
   },
   "source": [
    "param = [1.0, 0.0, -250, 0.0, 1.0, 0.0, 0.0, 0.0]  #just some random parameters -> [a0, a1, a2, b0, b1, b2, c0, c1]\n",
    "transformed_Noisex = tfa.image.transform(Noisex, param, 'BILINEAR', [Fingerprint.shape[0], Fingerprint.shape[1]])"
   ],
   "execution_count": null,
   "outputs": []
  },
  {
   "cell_type": "markdown",
   "metadata": {
    "id": "9_ppaipv4vYF"
   },
   "source": [
    "**some useful functions**"
   ]
  },
  {
   "cell_type": "code",
   "metadata": {
    "id": "Uz0AgvNb4vCD"
   },
   "source": [
    "import os\n",
    "\n",
    "os.environ['TF_CPP_MIN_LOG_LEVEL'] = '0'\n",
    "os.environ['TF_CPP_MIN_LOG_LEVEL'] = '1'\n",
    "os.environ['TF_CPP_MIN_LOG_LEVEL'] = '2'\n",
    "os.environ['TF_CPP_MIN_LOG_LEVEL'] = '3'\n",
    "import warnings\n",
    "\n",
    "warnings.filterwarnings('ignore')\n",
    "import tensorflow as tf\n",
    "import numpy as np\n",
    "\n",
    "\n",
    "def circxcross2(mat1, mat2):\n",
    "    a = mat1  # K\n",
    "    b = mat2  # W\n",
    "    sizem1 = (tf.shape(b)).numpy()  # sizeW\n",
    "    sizem2 = (tf.shape(a)).numpy()  # sizeK\n",
    "\n",
    "    if (sizem1[1] >= sizem2[1]) and (sizem1[0] >= sizem2[0]):\n",
    "        a = mat2  # W\n",
    "        b = mat1  # K\n",
    "        sizem1 = (tf.shape(b)).numpy()\n",
    "        sizem2 = (tf.shape(a)).numpy()\n",
    "\n",
    "    a = a - tf.reduce_mean(a)\n",
    "    a = a / tf.norm(a)\n",
    "    b = b - tf.reduce_mean(b)\n",
    "    b = b / tf.norm(b)\n",
    "    paddings = tf.constant([[0, sizem2[0] - sizem1[0], ], [0, sizem2[1] - sizem1[1]], [0, 0]])\n",
    "    b = tf.pad(b, paddings, \"CONSTANT\")\n",
    "    tilted_b = tf.image.rot90(b, k=2)\n",
    "    tilted_b = tf.cast(tf.squeeze(tilted_b), tf.complex64)\n",
    "    a = tf.cast(tf.squeeze(a), tf.complex64)\n",
    "    FF = tf.multiply(tf.signal.fft2d(a), tf.signal.fft2d(tilted_b))\n",
    "    ret = tf.math.real(tf.signal.ifft2d(FF))\n",
    "    return tf.roll(ret, shift=[1, 1], axis=[1, 1])\n",
    "\n",
    "\n",
    "def pce2(cc: np.ndarray, ranges, neigh_radius: int = 2):\n",
    "    \"\"\"\n",
    "    PCE VALUE\n",
    "    \"\"\"\n",
    "    assert (cc.ndim == 2)\n",
    "    assert (isinstance(neigh_radius, int))\n",
    "\n",
    "    cc_inrange = cc[:ranges[0], :ranges[1]]\n",
    "    max_idx = np.argmax(cc_inrange.flatten())\n",
    "    max_y, max_x = np.unravel_index(max_idx, cc_inrange.shape)\n",
    "\n",
    "    peak_height = cc[max_y, max_x]\n",
    "\n",
    "    cc_nopeaks = cc.copy()\n",
    "    cc_nopeaks[max_y - neigh_radius:max_y + neigh_radius, max_x - neigh_radius:max_x + neigh_radius] = 0\n",
    "\n",
    "    pce_energy = np.mean(cc_nopeaks.flatten() ** 2)\n",
    "\n",
    "    return (peak_height ** 2) / pce_energy * np.sign(peak_height), (peak_height ** 2), (\n",
    "                pce_energy * np.sign(peak_height))"
   ],
   "execution_count": null,
   "outputs": []
  },
  {
   "cell_type": "markdown",
   "metadata": {
    "id": "r8RmCvo143Kc"
   },
   "source": [
    "**YOUR CODE**"
   ]
  },
  {
   "cell_type": "code",
   "metadata": {
    "id": "kfGR-4k3Ddeu"
   },
   "source": [
    "import numpy as np\n",
    "\n",
    "#read camera fingerprint\n",
    "Fingerprint = np.genfromtxt('FINGERPRINT_D02.dat')\n",
    "print('SIZE CAMERA FINGERPRINT: ', np.shape(Fingerprint))\n",
    "\n",
    "#extract PRNU from image\n",
    "imx = 'frame1.png'  #do not forget frame25.png frame50.png and frame75.png :-)\n",
    "Noisex = Ft.NoiseExtractFromImage(imx, sigma=2.)\n",
    "Noisex = Fu.WienerInDFT(Noisex, np.std(Noisex))\n",
    "print('SIZE PRNU IMAGE: ', np.shape(Noisex))\n",
    "\n",
    "if np.shape(Noisex) == np.shape(Fingerprint):\n",
    "    print('Camera Fingerprint and Image PRNU size are the same. CASE: Perfectly aligned!')\n",
    "    shift_range = [0, 0]\n",
    "    C = Fu.crosscorr(Noisex1, Fingerprint)\n",
    "else:\n",
    "    print('Camera Fingerprint and Image PRNU size are NOT the same. CASE: NOT perfectly aligned!')\n",
    "    Noisex1 = np.zeros_like(Fingerprint)\n",
    "    Noisex1[:Noisex.shape[0], :Noisex.shape[1]] = Noisex\n",
    "    shift_range = [Fingerprint.shape[0] - Noisex.shape[0], Fingerprint.shape[1] - Noisex.shape[1]]\n",
    "    C = Fu.crosscorr(Noisex1, Fingerprint)\n",
    "\n",
    "det, det0 = md.PCE(C, shift_range=shift_range)\n",
    "print('PCE value before down-scaling inversion (i.e. upscaling)')\n",
    "print(\"{0}: {1}\".format('PCE', det['PCE']))\n",
    "\n",
    "#convert Noisex and Fingerprint from numpy to tensor to use it with tfa.image.transform()\n",
    "W_tensor = tf.expand_dims(tf.convert_to_tensor(Noisex, dtype=tf.float32), -1)\n",
    "K_tensor = tf.expand_dims(tf.convert_to_tensor(Fingerprint, dtype=tf.float32), -1)\n",
    "\n",
    "#to compute the PCE adapt this code\n",
    "#size_frame_post = np.shape(W_tensor)\n",
    "#C = circxcross2(Krs, W_tensor)\n",
    "#ranges2 = [Fingerprint.shape[0] - size_frame_post[0] + 1, Fingerprint.shape[1] - size_frame_post[1] + 1]\n",
    "#PCE_ks, _, _ = pce2((tf.squeeze(C)).numpy(), ranges2)\n",
    "'''\n",
    "YOUR CODE\n",
    "[There are not real ranges of values for a0, a1, a2, etc.]\n",
    "'''"
   ],
   "execution_count": null,
   "outputs": []
  }
 ]
}