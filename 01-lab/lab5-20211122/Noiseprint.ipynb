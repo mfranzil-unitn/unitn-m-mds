{
 "nbformat": 4,
 "nbformat_minor": 0,
 "metadata": {
  "colab": {
   "name": "Noiseprint.ipynb",
   "provenance": [],
   "collapsed_sections": []
  },
  "kernelspec": {
   "display_name": "Python 3",
   "name": "python3"
  },
  "language_info": {
   "name": "python"
  },
  "accelerator": "GPU"
 },
 "cells": [
  {
   "cell_type": "markdown",
   "metadata": {
    "id": "AB83H9koFwDO"
   },
   "source": [
    "#**Noiseprint** - An Overview#"
   ]
  },
  {
   "cell_type": "markdown",
   "metadata": {
    "id": "NU9WWYFDGRK1"
   },
   "source": [
    "**What is it?:**\n",
    "\n",
    "A noise residual estimated by means of a CNN\n",
    "\n",
    "**Where is it used?**\n",
    "* Device Identification\n",
    "* Tampering Detection (very effective)\n",
    "\n",
    "**Main Problems:**\n",
    "* Not spatial invariant\n",
    "* False alarms when tested on  **different** device having the **same** model \n",
    "* it can't really does device identification as PRNU\n"
   ]
  },
  {
   "cell_type": "markdown",
   "metadata": {
    "id": "gQ0Od7xGHx8Q"
   },
   "source": [
    "##How do you extract Noiseprint?##\n",
    "\n",
    "[info and papers about Noiseprint](https://github.com/grip-unina/noiseprint)"
   ]
  },
  {
   "cell_type": "code",
   "metadata": {
    "colab": {
     "base_uri": "https://localhost:8080/"
    },
    "id": "P8sGwUGsIGOJ",
    "outputId": "e95fcf94-261f-4fa8-b92d-0ace974b3bbe",
    "pycharm": {
     "name": "#%%\n"
    }
   },
   "source": [
    "# !git clone https://github.com/grip-unina/noiseprint.git"
   ],
   "execution_count": null,
   "outputs": []
  },
  {
   "cell_type": "code",
   "metadata": {
    "id": "GSyWXb8E-U-0"
   },
   "source": [
    "import os \n",
    "os.chdir('noiseprint/')"
   ],
   "execution_count": null,
   "outputs": []
  },
  {
   "cell_type": "code",
   "metadata": {
    "id": "xZ_7y0q-LjSN",
    "colab": {
     "base_uri": "https://localhost:8080/"
    },
    "outputId": "e5210202-aae6-4169-ae88-8e61664c0c39"
   },
   "source": [
    "!pip install git+https://github.com/giuliano-oliveira/gdown_folder.git"
   ],
   "execution_count": null,
   "outputs": []
  },
  {
   "cell_type": "code",
   "metadata": {
    "id": "FTOHPrrwLim1",
    "colab": {
     "base_uri": "https://localhost:8080/",
     "height": 35
    },
    "outputId": "7a1eb105-d9d8-472f-d854-5b91330d3c5c"
   },
   "source": [
    "import gdown\n",
    "gdown.download_folder('https://drive.google.com/drive/u/1/folders/1z06hxZEXOwMUtCbZAybGkEWzelPUN5UJ', quiet=True)"
   ],
   "execution_count": null,
   "outputs": []
  },
  {
   "cell_type": "markdown",
   "metadata": {
    "id": "e9Dk4Axepi-o"
   },
   "source": [
    "#**Extraction**#"
   ]
  },
  {
   "cell_type": "code",
   "metadata": {
    "colab": {
     "base_uri": "https://localhost:8080/",
     "height": 915
    },
    "id": "GCE-3kqspVyd",
    "outputId": "84dcd965-56b1-4871-b06a-fa1cb8abb497"
   },
   "source": [
    "# This is the code to extract Noiseprint adapted by Andrea Montibeller to run \n",
    "# and display its results on Colab\n",
    "#\n",
    "# %%%%%%%%%%%%%%%%%%%%%%%%%%%%%%%%%%%%%%%%%%%%%%%%%%%%%%%%%%%%%%%%%%%%%%%%%\n",
    "#\n",
    "# Copyright (c) 2019 Image Processing Research Group of University Federico II of Naples ('GRIP-UNINA').\n",
    "# All rights reserved.\n",
    "# This work should only be used for nonprofit purposes.\n",
    "#\n",
    "# By downloading and/or using any of these files, you implicitly agree to all the\n",
    "# terms of the license, as specified in the document LICENSE.txt\n",
    "# (included in this package) and online at\n",
    "# http://www.grip.unina.it/download/LICENSE_OPEN.txt\n",
    "#\n",
    "import numpy as np\n",
    "import matplotlib.pyplot as plt\n",
    "from sys import argv\n",
    "from time import time\n",
    "from noiseprint.noiseprint import genNoiseprint\n",
    "from noiseprint.utility.utilityRead import imread2f\n",
    "from noiseprint.utility.utilityRead import jpeg_qtableinv\n",
    "\n",
    "imgfilename = 'device_identification/Agfa/Agfa_DC-504_0_1.JPG'\n",
    "\n",
    "timestamp = time()\n",
    "img, mode = imread2f(imgfilename, channel=1)\n",
    "img_rgb, mode_rgb = imread2f(imgfilename, channel = 3)\n",
    "\n",
    "try:\n",
    "    QF = jpeg_qtableinv(strimgfilenameeam)\n",
    "except:\n",
    "    QF = 200\n",
    "res = genNoiseprint(img,QF)\n",
    "timeApproach = time() - timestamp\n",
    "\n",
    "out_dict = dict()\n",
    "out_dict['noiseprint'] = res\n",
    "out_dict['QF'] = QF\n",
    "out_dict['time'] = timeApproach\n",
    "\n",
    "#plot results\n",
    "plt.rcParams['figure.figsize'] = [40, 35]\n",
    "vmin = np.min(res[34:-34,34:-34])\n",
    "vmax = np.max(res[34:-34,34:-34])\n",
    "plt.figure()\n",
    "plt.subplot(1,2,1)\n",
    "plt.imshow(img_rgb, clim=[0,1])\n",
    "plt.title('input \\n image (%s, %d)' % (mode_rgb, QF))\n",
    "plt.subplot(1,2,2)\n",
    "plt.imshow(res.clip(vmin,vmax), clim=[vmin,vmax], cmap='gray')\n",
    "plt.title('noiseprint')\n",
    "plt.show()"
   ],
   "execution_count": null,
   "outputs": []
  },
  {
   "cell_type": "markdown",
   "metadata": {
    "id": "v-BCP8tO0-GY"
   },
   "source": [
    "#**Device Identification**#"
   ]
  },
  {
   "cell_type": "markdown",
   "metadata": {
    "id": "jDtob0ZwikOl"
   },
   "source": [
    "**Match Case (H1)**"
   ]
  },
  {
   "cell_type": "code",
   "metadata": {
    "colab": {
     "base_uri": "https://localhost:8080/"
    },
    "id": "uc4tF0dn1D-L",
    "outputId": "5e1cf909-9c3c-4439-d5dd-e04797721610"
   },
   "source": [
    "# This is the code to extract Noiseprint adapted by Andrea Montibeller to run \n",
    "# and display its results on Colab\n",
    "#\n",
    "# %%%%%%%%%%%%%%%%%%%%%%%%%%%%%%%%%%%%%%%%%%%%%%%%%%%%%%%%%%%%%%%%%%%%%%%%%\n",
    "#\n",
    "# Copyright (c) 2019 Image Processing Research Group of University Federico II of Naples ('GRIP-UNINA').\n",
    "# All rights reserved.\n",
    "# This work should only be used for nonprofit purposes.\n",
    "#\n",
    "# By downloading and/or using any of these files, you implicitly agree to all the\n",
    "# terms of the license, as specified in the document LICENSE.txt\n",
    "# (included in this package) and online at\n",
    "# http://www.grip.unina.it/download/LICENSE_OPEN.txt\n",
    "#\n",
    "\n",
    "import numpy as np\n",
    "import matplotlib.pyplot as plt\n",
    "from sys import argv\n",
    "from time import time\n",
    "from noiseprint.noiseprint import genNoiseprint\n",
    "from noiseprint.utility.utilityRead import imread2f\n",
    "from noiseprint.utility.utilityRead import jpeg_qtableinv\n",
    "\n",
    "def crop_center(img,cropx,cropy):\n",
    "    y,x = img.shape\n",
    "    startx = x//2-(cropx//2)\n",
    "    starty = y//2-(cropy//2)    \n",
    "    return img[starty:starty+cropy,startx:startx+cropx]\n",
    "\n",
    "imgfilename1 = 'device_identification/Agfa/Agfa_DC-504_0_1.JPG'\n",
    "print('input 1: ', imgfilename1)\n",
    "imgfilename2 = 'device_identification/Agfa/Agfa_DC-504_0_5.JPG'\n",
    "print('input 2: ',imgfilename2)\n",
    "print('SAME BRAND and Camera \\n')\n",
    "\n",
    "img1, mode1 = imread2f(imgfilename1, channel=1)\n",
    "try:\n",
    "    QF = jpeg_qtableinv(strimgfilename1eam)\n",
    "except:\n",
    "    QF = 200\n",
    "res1 = genNoiseprint(img1,QF)\n",
    "#center crop\n",
    "res1 = crop_center(res1,1920,1080)\n",
    "#\n",
    "img2, mode2 = imread2f(imgfilename2, channel=1)\n",
    "try:\n",
    "    QF = jpeg_qtableinv(strimgfilename2eam)\n",
    "except:\n",
    "    QF = 200\n",
    "res2 = genNoiseprint(img2,QF)\n",
    "#center crop\n",
    "res2 = crop_center(res2,1920,1080)\n",
    "res1_arr = np.reshape(res1, [res1.shape[0]*res1.shape[1]])\n",
    "a = ((res1_arr - np.mean(res1_arr)) / (np.std(res1_arr)))\n",
    "res2_arr = np.reshape(res2, [res2.shape[0]*res2.shape[1]])\n",
    "b = ((res2_arr - np.mean(res2_arr)) / (np.std(res2_arr)))\n",
    "ncc = (1 / (res1.shape[0]*res1.shape[1])) * (np.inner(a, b))\n",
    "print('\\n NCC match (H1): ', ncc)"
   ],
   "execution_count": null,
   "outputs": []
  },
  {
   "cell_type": "markdown",
   "metadata": {
    "id": "BhjkMGnIim9R"
   },
   "source": [
    "**Mis-match Case (H0)**"
   ]
  },
  {
   "cell_type": "code",
   "metadata": {
    "colab": {
     "base_uri": "https://localhost:8080/"
    },
    "id": "3ie2mh70IgOa",
    "outputId": "23bfdeba-36f6-4c6d-b010-ed1aca0dccec"
   },
   "source": [
    "# This is the code to extract Noiseprint adapted by Andrea Montibeller to run \n",
    "# and display its results on Colab\n",
    "#\n",
    "# %%%%%%%%%%%%%%%%%%%%%%%%%%%%%%%%%%%%%%%%%%%%%%%%%%%%%%%%%%%%%%%%%%%%%%%%%\n",
    "#\n",
    "# Copyright (c) 2019 Image Processing Research Group of University Federico II of Naples ('GRIP-UNINA').\n",
    "# All rights reserved.\n",
    "# This work should only be used for nonprofit purposes.\n",
    "#\n",
    "# By downloading and/or using any of these files, you implicitly agree to all the\n",
    "# terms of the license, as specified in the document LICENSE.txt\n",
    "# (included in this package) and online at\n",
    "# http://www.grip.unina.it/download/LICENSE_OPEN.txt\n",
    "#\n",
    "\n",
    "import numpy as np\n",
    "import matplotlib.pyplot as plt\n",
    "from sys import argv\n",
    "from time import time\n",
    "from noiseprint.noiseprint import genNoiseprint\n",
    "from noiseprint.utility.utilityRead import imread2f\n",
    "from noiseprint.utility.utilityRead import jpeg_qtableinv\n",
    "\n",
    "def crop_center(img,cropx,cropy):\n",
    "    y,x = img.shape\n",
    "    startx = x//2-(cropx//2)\n",
    "    starty = y//2-(cropy//2)    \n",
    "    return img[starty:starty+cropy,startx:startx+cropx]\n",
    "\n",
    "imgfilename1 = 'device_identification/Agfa/Agfa_DC-504_0_1.JPG'\n",
    "print('input 1: ', imgfilename1)\n",
    "imgfilename2 = 'device_identification/Kodak/Kodak_M1063_0_9561.JPG'\n",
    "print('input 2: ', imgfilename2)\n",
    "print('DIFFERENT BRAND and Camera\\n')\n",
    "\n",
    "\n",
    "img1, mode1 = imread2f(imgfilename1, channel=1)\n",
    "try:\n",
    "    QF = jpeg_qtableinv(strimgfilename1eam)\n",
    "except:\n",
    "    QF = 200\n",
    "res1 = genNoiseprint(img1,QF)\n",
    "#center crop\n",
    "res1 = crop_center(res1,1920,1080)\n",
    "#\n",
    "img2, mode2 = imread2f(imgfilename2, channel=1)\n",
    "try:\n",
    "    QF = jpeg_qtableinv(strimgfilename2eam)\n",
    "except:\n",
    "    QF = 200\n",
    "res2 = genNoiseprint(img2,QF)\n",
    "#center crop\n",
    "res2 = crop_center(res2,1920,1080)\n",
    "res1_arr = np.reshape(res1, [res1.shape[0]*res1.shape[1]])\n",
    "a = ((res1_arr - np.mean(res1_arr)) / (np.std(res1_arr)))\n",
    "res2_arr = np.reshape(res2, [res2.shape[0]*res2.shape[1]])\n",
    "b = ((res2_arr - np.mean(res2_arr)) / (np.std(res2_arr)))\n",
    "ncc = (1 / (res1.shape[0]*res1.shape[1])) * (np.inner(a, b))\n",
    "print('\\n NCC mis-match (H0): ', ncc)"
   ],
   "execution_count": null,
   "outputs": []
  },
  {
   "cell_type": "markdown",
   "metadata": {
    "id": "EgtjFm_B1FVc"
   },
   "source": [
    "#**Tampering Detection**#"
   ]
  },
  {
   "cell_type": "code",
   "metadata": {
    "colab": {
     "base_uri": "https://localhost:8080/",
     "height": 430
    },
    "id": "8KzBGFQw1KVF",
    "outputId": "e1b6207d-2760-49e3-8e6d-92a1ad296856"
   },
   "source": [
    "# This is the code to extract Noiseprint adapted by Andrea Montibeller to run \n",
    "# and display its results on Colab\n",
    "#\n",
    "# %%%%%%%%%%%%%%%%%%%%%%%%%%%%%%%%%%%%%%%%%%%%%%%%%%%%%%%%%%%%%%%%%%%%%%%%%\n",
    "#\n",
    "# Copyright (c) 2019 Image Processing Research Group of University Federico II of Naples ('GRIP-UNINA').\n",
    "# All rights reserved.\n",
    "# This work should only be used for nonprofit purposes.\n",
    "#\n",
    "# By downloading and/or using any of these files, you implicitly agree to all the\n",
    "# terms of the license, as specified in the document LICENSE.txt\n",
    "# (included in this package) and online at\n",
    "# http://www.grip.unina.it/download/LICENSE_OPEN.txt\n",
    "#\n",
    "\n",
    "import numpy as np\n",
    "import matplotlib.pyplot as plt\n",
    "from sys import argv\n",
    "from time import time\n",
    "from noiseprint.noiseprint import genNoiseprint\n",
    "from noiseprint.utility.utilityRead import imread2f\n",
    "from noiseprint.utility.utilityRead import jpeg_qtableinv\n",
    "from noiseprint.noiseprint_blind import noiseprint_blind_file\n",
    "\n",
    "imgfilename = 'demo/imgs/NC2016_2564.jpg'\n",
    "\n",
    "img, mode = imread2f(imgfilename, channel=1)\n",
    "img_rgb, mode_rgb = imread2f(imgfilename, channel = 3)\n",
    "\n",
    "try:\n",
    "    QF = jpeg_qtableinv(strimgfilenameeam)\n",
    "except:\n",
    "    QF = 200\n",
    "res = genNoiseprint(img,QF)\n",
    "QF, mapp, valid, range0, range1, imgsize, other = noiseprint_blind_file(imgfilename)\n",
    "\n",
    "\n",
    "#plot results\n",
    "plt.rcParams['figure.figsize'] = [40, 35]\n",
    "vmin = np.min(res[34:-34,34:-34])\n",
    "vmax = np.max(res[34:-34,34:-34])\n",
    "vmin_map=np.min(mapp[34:-34,34:-34])\n",
    "vmax_map=np.max(mapp[34:-34,34:-34]) \n",
    "plt.figure()\n",
    "plt.subplot(1,3,1)\n",
    "plt.imshow(img_rgb, clim=[0,1])\n",
    "plt.title('input \\n image (%s, %d)' % (mode_rgb, QF))\n",
    "plt.subplot(1,3,2)\n",
    "plt.imshow(res.clip(vmin,vmax), clim=[vmin,vmax], cmap='gray')\n",
    "plt.title('noiseprint')\n",
    "plt.subplot(1,3,3)\n",
    "plt.imshow(mapp.clip(vmin_map,vmax_map), clim=[vmin_map,vmax_map], cmap='gray')\n",
    "plt.title('detection map')\n",
    "plt.show()"
   ],
   "execution_count": null,
   "outputs": []
  },
  {
   "cell_type": "markdown",
   "metadata": {
    "id": "YS_FJQRRR2x1"
   },
   "source": [
    "**Compute F1-score**"
   ]
  },
  {
   "cell_type": "code",
   "metadata": {
    "id": "jwdBuyvjRzfp",
    "colab": {
     "base_uri": "https://localhost:8080/",
     "height": 497
    },
    "outputId": "7681101a-2042-4458-d22c-dd2482e5411c"
   },
   "source": [
    "import numpy as np \n",
    "from noiseprint.noiseprint_blind import genMappUint8\n",
    "from noiseprint.noiseprint_blind import genMappFloat\n",
    "\n",
    "def get_tn_tp_fn_fp(y_true, y_pred):\n",
    "    tn = np.sum(np.logical_and(np.logical_not(y_true), np.logical_not(y_pred))).astype(np.float64)\n",
    "    tp = np.sum(np.logical_and(               y_true ,                y_pred )).astype(np.float64)\n",
    "    fn = np.sum(np.logical_and(               y_true , np.logical_not(y_pred))).astype(np.float64)\n",
    "    fp = np.sum(np.logical_and(np.logical_not(y_true),                y_pred )).astype(np.float64)\n",
    "    return tn, tp, fn, fp\n",
    "\n",
    "\n",
    "def f1_score(y_true, y_pred):\n",
    "    tn, tp, fn, fp = get_tn_tp_fn_fp(y_true, y_pred)\n",
    "    f1 = 2*tp/(2*tp+fp+fn)\n",
    "    if np.isnan(f1):\n",
    "        return 0.\n",
    "    else:\n",
    "        return f1\n",
    "\n",
    "binary_map = (genMappFloat(mapp, valid, range0, range1, imgsize))\n",
    "binary_map = (binary_map/np.max(binary_map))>0.15\n",
    "#\n",
    "gt = imread2f('demo/refs/NC2016_2564_gt.png', channel = 1)[0]>0.5\n",
    "plt.figure()\n",
    "plt.subplot(1,2,1)\n",
    "plt.imshow(binary_map)\n",
    "plt.subplot(1,2,2)\n",
    "plt.imshow(gt)\n",
    "print('F1-score: ', f1_score(binary_map, gt))"
   ],
   "execution_count": null,
   "outputs": []
  },
  {
   "cell_type": "markdown",
   "metadata": {
    "id": "O05z_yid37VP"
   },
   "source": [
    "**How well perform no deep-based Methods?**\n",
    "\n",
    " [reference paper](https://ieeexplore.ieee.org/document/7368565)\n",
    " [reference code](http://www.grip.unina.it/download/prog/Splicebuster/Splicebuster.zip)"
   ]
  },
  {
   "cell_type": "code",
   "metadata": {
    "colab": {
     "base_uri": "https://localhost:8080/",
     "height": 35
    },
    "id": "57E5Qb0V_5IV",
    "outputId": "00c93987-388b-4ee4-88dc-48e49e3bf08e"
   },
   "source": [
    "import gdown\n",
    "gdown.download_folder('https://drive.google.com/drive/u/1/folders/19WeEW59pA7pp4dFx4KRQCDeWRrEzrpgi', quiet=True)"
   ],
   "execution_count": null,
   "outputs": []
  },
  {
   "cell_type": "markdown",
   "metadata": {
    "id": "F5F972pMqfhM"
   },
   "source": [
    "**Results with Splicebuster**"
   ]
  },
  {
   "cell_type": "code",
   "metadata": {
    "id": "n1Njbxm7ZlmD"
   },
   "source": [
    "import os \n",
    "os.chdir('Splicebuster')"
   ],
   "execution_count": null,
   "outputs": []
  },
  {
   "cell_type": "code",
   "metadata": {
    "id": "IpufKu0O8eyg",
    "colab": {
     "base_uri": "https://localhost:8080/"
    },
    "outputId": "a713ae39-c7d7-4494-ed8b-25232dbed4b3"
   },
   "source": [
    "!python src/SB_launcher.py  ../demo/imgs/NC2016_2564.jpg splicing.mat"
   ],
   "execution_count": null,
   "outputs": []
  },
  {
   "cell_type": "code",
   "metadata": {
    "id": "DZdgaOVfmRAf"
   },
   "source": [
    "os.chdir('src')"
   ],
   "execution_count": null,
   "outputs": []
  },
  {
   "cell_type": "code",
   "metadata": {
    "colab": {
     "base_uri": "https://localhost:8080/",
     "height": 512
    },
    "id": "7yVpELmF4-Q7",
    "outputId": "b7a5f665-3ca3-4c4c-e2b5-a44da3ba3912"
   },
   "source": [
    "import warnings\n",
    "warnings.filterwarnings(\"ignore\")\n",
    "from sys import argv\n",
    "import scipy.io as sio\n",
    "from time import time\n",
    "from SB import SB_main\n",
    "from sys import argv\n",
    "import numpy as np\n",
    "import scipy.io as sio\n",
    "from utility.utilityImage import imread2f\n",
    "from utility.utilityImage import linear2uint8\n",
    "from utility.utilityImage import resizeMapWithPadding\n",
    "from utility.utilityImage import minmaxClip\n",
    "\n",
    "\n",
    "imgfilename = '../../demo/imgs/NC2016_2564.jpg'\n",
    "outfilename = '../splicing.mat'\n",
    "\n",
    "img_rgb = imread2f(imgfilename, channel = 3)\n",
    "dat = sio.loadmat(outfilename)\n",
    "\n",
    "map     = dat['map']\n",
    "time    = dat['time'].flatten()\n",
    "range0  = dat['range0'].flatten()\n",
    "range1  = dat['range1'].flatten()\n",
    "imgsize = dat['imgsize'].flatten()\n",
    "print('time: %g' % time)\n",
    "\n",
    "mapUint8 = linear2uint8(map)\n",
    "mapUint8 = resizeMapWithPadding(mapUint8,range0,range1, imgsize)\n",
    "[mapMin, mapMax] = minmaxClip(map, p = 0.02)\n",
    "map[np.isnan(map)] = 0.0\n",
    "\n",
    "try:\n",
    "    import matplotlib.pyplot as plt\n",
    "    plt.figure()\n",
    "    plt.subplot(1,2,1)\n",
    "    plt.imshow(img_rgb, clim=[0,1])\n",
    "    plt.axis('off')\n",
    "    plt.title('input \\n image')\n",
    "    plt.subplot(1,2,2)\n",
    "    plt.imshow(mapUint8, clim=[0,255], cmap='gray')\n",
    "    plt.xticks(list())\n",
    "    plt.yticks(list())\n",
    "    plt.title('result converted in uint8')\n",
    "    plt.show()\n",
    "except:\n",
    "    print('warning: I cannot show the result');\n",
    "os.chdir('../')"
   ],
   "execution_count": null,
   "outputs": []
  },
  {
   "cell_type": "code",
   "metadata": {
    "id": "FowdqtBtxDDN"
   },
   "source": [
    "os.chdir('Splicebuster')"
   ],
   "execution_count": null,
   "outputs": []
  },
  {
   "cell_type": "code",
   "metadata": {
    "colab": {
     "base_uri": "https://localhost:8080/",
     "height": 515
    },
    "id": "mVVvXN2XspeO",
    "outputId": "c76c2926-8862-4757-db60-63154f1076e5"
   },
   "source": [
    "import numpy as np \n",
    "from utility.utilityImage import imread2f\n",
    "\n",
    "\n",
    "def get_tn_tp_fn_fp(y_true, y_pred):\n",
    "    tn = np.sum(np.logical_and(np.logical_not(y_true), np.logical_not(y_pred))).astype(np.float64)\n",
    "    tp = np.sum(np.logical_and(               y_true ,                y_pred )).astype(np.float64)\n",
    "    fn = np.sum(np.logical_and(               y_true , np.logical_not(y_pred))).astype(np.float64)\n",
    "    fp = np.sum(np.logical_and(np.logical_not(y_true),                y_pred )).astype(np.float64)\n",
    "    return tn, tp, fn, fp\n",
    "\n",
    "\n",
    "def f1_score(y_true, y_pred):\n",
    "    tn, tp, fn, fp = get_tn_tp_fn_fp(y_true, y_pred)\n",
    "    f1 = 2*tp/(2*tp+fp+fn)\n",
    "    if np.isnan(f1):\n",
    "        return 0.\n",
    "    else:\n",
    "        return f1\n",
    "\n",
    "binary_map2 = (mapUint8/np.max(mapUint8))>0.5\n",
    "#\n",
    "gt = imread2f('../demo/refs/NC2016_2564_gt.png', channel = 1)>0.5\n",
    "plt.figure()\n",
    "plt.subplot(1,2,1)\n",
    "plt.imshow(binary_map2)\n",
    "plt.subplot(1,2,2)\n",
    "plt.imshow(gt)\n",
    "print('F1-score: ', f1_score(binary_map2, gt))\n",
    "os.chdir('../')\n",
    "!ls"
   ],
   "execution_count": null,
   "outputs": []
  },
  {
   "cell_type": "markdown",
   "metadata": {
    "id": "HOa_55C0Bu6h"
   },
   "source": [
    "##**Exercise 1**#\n",
    "Check the NCC values of the images in 'device_identification'. Some of them have the same brand, does this have an impact on the final decision in terms of device identification? "
   ]
  },
  {
   "cell_type": "code",
   "metadata": {
    "id": "NQXr4gF9Rkll"
   },
   "source": [
    "!ls device_identification/\n",
    "!ls device_identification/*/*"
   ],
   "execution_count": null,
   "outputs": []
  },
  {
   "cell_type": "code",
   "metadata": {
    "id": "xcIJuUSIT4lw"
   },
   "source": [
    "#YOUR CODE#"
   ],
   "execution_count": null,
   "outputs": []
  },
  {
   "cell_type": "markdown",
   "metadata": {
    "id": "dOn40h9DCTHF"
   },
   "source": [
    "##**Exercise 2**#\n",
    "Compute the detection map of the following images. Can you binarize them? \\\\\n",
    "Can you confirm that the optimal threshold is 0.5? \\\\\n",
    "If not, how can you estimate it?\\\\\n",
    "In 'test-dataset-forged' you can find the tampered images. In '' you can find the ground truth maps.\n"
   ]
  },
  {
   "cell_type": "code",
   "metadata": {
    "id": "4Z5voX7mmts9"
   },
   "source": [
    "import gdown\n",
    "gdown.download_folder('https://drive.google.com/drive/u/1/folders/1vqytHcWQHsnk9yFnUJ-BMW-6c9uEpB6j', quiet=True)\n",
    "gdown.download_folder('https://drive.google.com/drive/u/1/folders/1GKKkkgld_XyI8d1gwiuyTs7EmNSflbpQ', quiet=True)"
   ],
   "execution_count": null,
   "outputs": []
  },
  {
   "cell_type": "code",
   "metadata": {
    "id": "WFnhC0_gzOjB"
   },
   "source": [
    "#YOUR CODE#"
   ],
   "execution_count": null,
   "outputs": []
  }
 ]
}